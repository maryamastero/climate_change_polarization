{
 "cells": [
  {
   "cell_type": "code",
   "execution_count": 1,
   "metadata": {},
   "outputs": [],
   "source": [
    "import os\n",
    "import pandas as pd\n",
    "import networkx as nx\n",
    "import numpy as np\n",
    "import itertools\n",
    "import json\n",
    "import collections\n",
    "from sklearn import linear_model as lm\n",
    "import matplotlib.pyplot as plt"
   ]
  },
  {
   "cell_type": "markdown",
   "metadata": {},
   "source": [
    "# Basic Network Measures"
   ]
  },
  {
   "cell_type": "markdown",
   "metadata": {},
   "source": [
    "# 1. Data"
   ]
  },
  {
   "cell_type": "code",
   "execution_count": 2,
   "metadata": {},
   "outputs": [],
   "source": [
    "path = str(os.path.abspath(os.path.join('',\"./\")))\n",
    "with open(path + '/edgelist_ksw_full_372_30min_25-03-2020.json', 'r') as f:\n",
    "    edgelist = json.load(f)\n",
    "with open(path + '/nodelist_ksw_full_372_30min_25-03-2020.json', 'r') as f:\n",
    "    nodelist = json.load(f)"
   ]
  },
  {
   "cell_type": "code",
   "execution_count": 3,
   "metadata": {},
   "outputs": [],
   "source": [
    "#nodelist"
   ]
  },
  {
   "cell_type": "code",
   "execution_count": 4,
   "metadata": {},
   "outputs": [],
   "source": [
    "nodelist = np.array(list(nodelist.items()))\n",
    "edgelist = np.array(edgelist)"
   ]
  },
  {
   "cell_type": "markdown",
   "metadata": {},
   "source": [
    "Construct network"
   ]
  },
  {
   "cell_type": "code",
   "execution_count": 5,
   "metadata": {},
   "outputs": [],
   "source": [
    "G = nx.MultiDiGraph()"
   ]
  },
  {
   "cell_type": "code",
   "execution_count": 6,
   "metadata": {},
   "outputs": [],
   "source": [
    "for node in nodelist:\n",
    "    G.add_node(node[0])"
   ]
  },
  {
   "cell_type": "code",
   "execution_count": 7,
   "metadata": {},
   "outputs": [],
   "source": [
    "for edge in edgelist:\n",
    "    G.add_edge(edge[0],edge[1],attr_dict = edge[2])"
   ]
  },
  {
   "cell_type": "code",
   "execution_count": 8,
   "metadata": {},
   "outputs": [],
   "source": [
    "# create network based on area\n",
    "def create_network_area(areaname):\n",
    "    nodelist_by_area = nodelist[nodelist[:,1] == areaname,:][:,0]\n",
    "    edgelist_by_area = edgelist[np.isin(edgelist[:,0],nodelist_by_area) | np.isin(edgelist[:,1],nodelist_by_area),]\n",
    "    G_area = nx.MultiDiGraph()\n",
    "    for node in nodelist_by_area:\n",
    "        G_area.add_node(node[0])\n",
    "    for edge in edgelist_by_area:\n",
    "        G_area.add_edge(edge[0],edge[1],attr_dict = edge[2])\n",
    "    return G_area"
   ]
  },
  {
   "cell_type": "code",
   "execution_count": 9,
   "metadata": {},
   "outputs": [],
   "source": [
    "NY = create_network_area(\"New York\")"
   ]
  },
  {
   "cell_type": "code",
   "execution_count": 10,
   "metadata": {},
   "outputs": [],
   "source": [
    "def SSE(a,b):\n",
    "    \"\"\"\n",
    "    Return sum of squared error\n",
    "    \"\"\"\n",
    "    return np.sum(np.power(a-b, 2))"
   ]
  },
  {
   "cell_type": "code",
   "execution_count": 11,
   "metadata": {},
   "outputs": [],
   "source": [
    "def bootstrap_sample(f, G, s, side, *args):\n",
    "    \"\"\"\n",
    "    Calculate network measure and p-value for a sample of a network\n",
    "    based on random sampling of nodes\n",
    "    \n",
    "    f: function handle, network measure\n",
    "    G: networx graph, population\n",
    "    s: networkx graph, filtered sample from G\n",
    "    side: str, two-sided/left/right\n",
    "    *args: extra args for network measure\n",
    "    \"\"\"\n",
    "    G_nodes = G.nodes()\n",
    "    n = len(s.nodes())\n",
    "    # measure for original sample\n",
    "    fs = f(s, *args)\n",
    "    flist = np.zeros(999)\n",
    "    # calculate measure for random samples of the network\n",
    "    for i in np.arange(999, dtype = int):\n",
    "        random_nodes = np.random.choice(G_nodes, size=n, replace=False)\n",
    "        G_random_sample = G.subgraph(random_nodes)\n",
    "        flist[i] = f(G_random_sample, *args)\n",
    "    # calculate p-value\n",
    "    flist.sort(axis = 0)\n",
    "    i_leq = 999\n",
    "    for i in np.arange(999,dtype = int):\n",
    "        if flist[i] >= fs:\n",
    "            i_leq = i\n",
    "            break\n",
    "    i_leq = i_leq + 1\n",
    "    if i_leq in [1,1000]:\n",
    "        p = 0\n",
    "    elif side == \"two-sided\":\n",
    "        if i_leq >=500: i_leq = 1000-i_leq\n",
    "        p = i_leq/500.\n",
    "    elif side == \"left\":\n",
    "        p = i_leq/1000.\n",
    "    else:\n",
    "        p = (1000-i_leq)/1000.\n",
    "    return fs, p"
   ]
  },
  {
   "cell_type": "markdown",
   "metadata": {},
   "source": [
    "# 2. Analysis"
   ]
  },
  {
   "cell_type": "markdown",
   "metadata": {},
   "source": [
    "## 2.1 Visualization"
   ]
  },
  {
   "cell_type": "code",
   "execution_count": 30,
   "metadata": {},
   "outputs": [
    {
     "data": {
      "image/png": "[encoded data removed]",
      "text/plain": [
       "<Figure size 432x288 with 1 Axes>"
      ]
     },
     "metadata": {},
     "output_type": "display_data"
    }
   ],
   "source": [
    "nx.draw(NY)"
   ]
  },
  {
   "cell_type": "markdown",
   "metadata": {},
   "source": [
    "# 2.2 Degree Distribution\n",
    "From 'Practical Social Network Analysis with Python':\n",
    "\n",
    "In practice, few empirical phenomena obey power laws for all values ofx.Moreoften the power law applies only for values greater than some minimumxmin. In suchcases we say that the tail of the distribution follows a power law.\\\n",
    "Broadly, the steps to verify power-law exhibition by a dataset is as follows:\\\n",
    "1. Estimate the parameters xmin and α of the power-law model using maximum likelihood estimation (MLE) techniques.\\\n",
    "2. Calculate the goodness-of-fit between the data and the power law. If the resulting p-value is greater than 0.1 the power law is a plausible hypothesis for the data,otherwise it is rejected.\\\n",
    "3. Compare the power law with alternative hypotheses via a likelihood ratio test. Foreach alternative, if the calculated likelihood ratio is significantly different fromzero, then its sign indicates whether the alternative is favoured over the power-lawmodel or not. Other established and statistically principled approaches for modelcomparison, such as a fully Bayesian approach [9], a cross-validation approach[17], or a minimum description length approach [8] can also be used instead.\\\n",
    "\n",
    "The power law has several moniker in various fields. It goes by the term Lotkadistribution for scientific productivity [15], Bradford law for journal use [4], Paretolaw of income distribution [16] and the Zipf law for literary word frequencies.\n",
    "\n",
    "So: \\\n",
    "fit power law, calculate error, \\\n",
    "Bootstrap results to random sample of same size from the network \\ \n",
    "\\\n",
    "but first, some plots:"
   ]
  },
  {
   "cell_type": "markdown",
   "metadata": {},
   "source": [
    "## Histograms for small networks"
   ]
  },
  {
   "cell_type": "code",
   "execution_count": null,
   "metadata": {},
   "outputs": [],
   "source": [
    "k = nx.degree_histogram(NY)\n",
    "x = np.arange(len(k))\n",
    "# in-degree\n",
    "in_degree_sequence = sorted([d for n, d in NY.in_degree()], reverse=True)  # degree sequence\n",
    "# print \"Degree sequence\", degree_sequence\n",
    "inDegreeCount = collections.Counter(in_degree_sequence)\n",
    "indeg, incnt = zip(*inDegreeCount.items())\n",
    "# out-degree\n",
    "out_degree_sequence = sorted([d for n, d in NY.out_degree()], reverse=True)  # degree sequence\n",
    "# print \"Degree sequence\", degree_sequence\n",
    "outDegreeCount = collections.Counter(out_degree_sequence)\n",
    "outdeg, outcnt = zip(*outDegreeCount.items())\n"
   ]
  },
  {
   "cell_type": "code",
   "execution_count": 68,
   "metadata": {},
   "outputs": [
    {
     "data": {
      "image/png": "[encoded data removed]",
      "text/plain": [
       "<Figure size 432x288 with 3 Axes>"
      ]
     },
     "metadata": {
      "needs_background": "light"
     },
     "output_type": "display_data"
    }
   ],
   "source": [
    "fig, axs = plt.subplots(1,3, frameon = False)\n",
    "axs[0].bar(x,k)#, width = 1)\n",
    "axs[0].set_xlabel(\"Degree\")\n",
    "h\n",
    "\n",
    "axs[1].bar(indeg,incnt)#, width = 1)\n",
    "axs[1].set_xlabel(\"In-Degree\")\n",
    "\n",
    "\n",
    "#k_in = nx.in_degree_histogram(NY)\n",
    "#x_in = np.arange(len(k_in))\n",
    "axs[2].bar(outdeg,outcnt)#, width = 1)\n",
    "axs[2].set_xlabel(\"Out-Degree\")\n",
    "\n",
    "for ax in axs:\n",
    "    ax.set_xlim(-0.5,5.5)\n",
    "    ax.set_ylim(0,50)\n",
    "    ax.set_xticks(range(5))\n",
    "    ax.spines['top'].set_visible(False)\n",
    "    ax.spines['right'].set_visible(False)"
   ]
  },
  {
   "cell_type": "markdown",
   "metadata": {},
   "source": [
    "## Log plots for large networks"
   ]
  },
  {
   "cell_type": "code",
   "execution_count": 40,
   "metadata": {},
   "outputs": [],
   "source": [
    "h = np.array(nx.degree_histogram(G)) \n",
    "x = np.arange(h.shape[0])\n",
    "# in-degree\n",
    "in_degree_sequence = sorted([d for n, d in G.in_degree()], reverse=True)  # degree sequence\n",
    "# print \"Degree sequence\", degree_sequence\n",
    "inDegreeCount = collections.Counter(in_degree_sequence)\n",
    "indeg, incnt = zip(*inDegreeCount.items())\n",
    "# out-degree\n",
    "out_degree_sequence = sorted([d for n, d in G.out_degree()], reverse=True)  # degree sequence\n",
    "# print \"Degree sequence\", degree_sequence\n",
    "outDegreeCount = collections.Counter(out_degree_sequence)\n",
    "outdeg, outcnt = zip(*outDegreeCount.items())"
   ]
  },
  {
   "cell_type": "code",
   "execution_count": 67,
   "metadata": {},
   "outputs": [
    {
     "data": {
      "image/png": "[encoded data removed]",
      "text/plain": [
       "<Figure size 432x288 with 3 Axes>"
      ]
     },
     "metadata": {
      "needs_background": "light"
     },
     "output_type": "display_data"
    }
   ],
   "source": [
    "fig, axs = plt.subplots(1,3)\n",
    "#plt.yscale('log')\n",
    "axs[0].scatter(x,h)\n",
    "axs[0].set_xlabel(\"Degree\")\n",
    "#k_in = nx.in_degree_histogram(NY)\n",
    "#x_in = np.arange(len(k_in))\n",
    "axs[1].scatter(indeg,incnt)#, width = 1)\n",
    "axs[1].set_xlabel(\"In-Degree\")\n",
    "axs[2].scatter(outdeg,outcnt)#, width = 1)\n",
    "axs[2].set_xlabel(\"Out-Degree\")\n",
    "\n",
    "for ax in axs:\n",
    "    #ax.set_xlim(-0.5,5.5)\n",
    "    ax.set_ylim(0.9,8e4)\n",
    "    ax.set_xlim(0.9,3e3)\n",
    "    #ax.set_xticks(range(5))\n",
    "    ax.spines['top'].set_visible(False)\n",
    "    ax.spines['right'].set_visible(False)\n",
    "    ax.set_yscale('log')\n",
    "    ax.set_xscale('log')\n",
    "    \n"
   ]
  },
  {
   "cell_type": "markdown",
   "metadata": {},
   "source": [
    "## Power law fits and p-values compared to random sample of network"
   ]
  },
  {
   "cell_type": "code",
   "execution_count": 177,
   "metadata": {},
   "outputs": [],
   "source": [
    "def degree_power_law_fit(G, *args):\n",
    "    \"\"\"\n",
    "    Fits power law model to degree distribution of network \n",
    "    and measured goodness of fit in log-log scale (allowing more deviation in extreme values)\n",
    "    G: networkx graph\n",
    "    direction: degree, in_degree or out_degree\n",
    "    goodness: function for measuring goodness of fit\n",
    "    \"\"\"\n",
    "    degree_func = args[0]\n",
    "    if len(args) ==2:\n",
    "        goodness = args[1]\n",
    "    else:\n",
    "        goodness = SSE\n",
    "    # degree distribution\n",
    "    if degree_func == \"degree\": \n",
    "        degree_sequence = sorted([d for n, d in G.degree()], reverse=True)  # degree sequence\n",
    "    elif degree_func == \"in_degree\":\n",
    "        degree_sequence = sorted([d for n, d in G.in_degree()], reverse=True)  # degree sequence\n",
    "    elif degree_func == \"out_degree\":\n",
    "        degree_sequence = sorted([d for n, d in G.out_degree()], reverse=True)  # degree sequence\n",
    "    else:\n",
    "        raise ValueError(\"unknown degree distribution function\")\n",
    "    DegreeCount = collections.Counter(degree_sequence)\n",
    "    deg, cnt = zip(*DegreeCount.items())\n",
    "    deg = np.array(deg)\n",
    "    cnt = np.array(cnt)\n",
    "    # take log\n",
    "    deg = np.where(deg != 0, np.log(deg), 0).reshape(-1, 1)#np.log(deg)\n",
    "    cnt = np.where(cnt != 0, np.log(cnt), 0).reshape(-1, 1)#np.log(deg)\n",
    "    # linear model of log points\n",
    "    #if np.count_nonzero(np.isnan(deg)) or np.count_nonzero(np.isnan(cnt)):\n",
    "    #    print(\"nan values\")\n",
    "    #model, residuals, rank, singular_values, rcond = np.polyfit(deg,cnt,1, full = True)\n",
    "    regr = linear_model.LinearRegression()\n",
    "    # fit model\n",
    "    regr.fit(deg, cnt)\n",
    "    # fitted values\n",
    "    cnt_fit = regr.predict(deg)\n",
    "    return goodness(cnt,cnt_fit)\n",
    "    \n",
    "    "
   ]
  },
  {
   "cell_type": "code",
   "execution_count": 139,
   "metadata": {},
   "outputs": [],
   "source": [
    "# hide runtime warnings from np.log\n",
    "import warnings\n",
    "warnings.filterwarnings(\"ignore\", category=RuntimeWarning)"
   ]
  },
  {
   "cell_type": "code",
   "execution_count": 183,
   "metadata": {},
   "outputs": [
    {
     "data": {
      "text/plain": [
       "(1.9383236699487751, 0.05)"
      ]
     },
     "execution_count": 183,
     "metadata": {},
     "output_type": "execute_result"
    }
   ],
   "source": [
    "# bootstrap NY\n",
    "bootstrap_sample(degree_power_law_fit, G, NY, \"two-sided\", \"degree\")\n"
   ]
  },
  {
   "cell_type": "code",
   "execution_count": 184,
   "metadata": {},
   "outputs": [
    {
     "data": {
      "text/plain": [
       "(2.6617191647253877, 0.814)"
      ]
     },
     "execution_count": 184,
     "metadata": {},
     "output_type": "execute_result"
    }
   ],
   "source": [
    "# bootstrap NY, in_degree\n",
    "bootstrap_sample(degree_power_law_fit, G, NY, \"two-sided\", \"in_degree\")"
   ]
  },
  {
   "cell_type": "code",
   "execution_count": 186,
   "metadata": {},
   "outputs": [
    {
     "data": {
      "text/plain": [
       "(0.1361017162270848, 0.836)"
      ]
     },
     "execution_count": 186,
     "metadata": {},
     "output_type": "execute_result"
    }
   ],
   "source": [
    "# bootstrap NY, out_degree\n",
    "bootstrap_sample(degree_power_law_fit, G, NY, \"two-sided\", \"out_degree\")"
   ]
  },
  {
   "cell_type": "markdown",
   "metadata": {},
   "source": [
    "Here we see that in and out -degrees of New York tweeters (among themselves) are not statistically different from the rest of the network."
   ]
  }
 ],
 "metadata": {
  "kernelspec": {
   "display_name": "Python [conda env:aalto-sci-project]",
   "language": "python",
   "name": "conda-env-aalto-sci-project-py"
  },
  "language_info": {
   "codemirror_mode": {
    "name": "ipython",
    "version": 3
   },
   "file_extension": ".py",
   "mimetype": "text/x-python",
   "name": "python",
   "nbconvert_exporter": "python",
   "pygments_lexer": "ipython3",
   "version": "3.7.6"
  }
 },
 "nbformat": 4,
 "nbformat_minor": 2
}
